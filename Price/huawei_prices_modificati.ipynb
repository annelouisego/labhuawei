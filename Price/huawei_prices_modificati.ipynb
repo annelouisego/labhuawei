{
 "cells": [
  {
   "cell_type": "code",
   "execution_count": 1,
   "metadata": {},
   "outputs": [
    {
     "data": {
      "text/html": [
       "<div>\n",
       "<style scoped>\n",
       "    .dataframe tbody tr th:only-of-type {\n",
       "        vertical-align: middle;\n",
       "    }\n",
       "\n",
       "    .dataframe tbody tr th {\n",
       "        vertical-align: top;\n",
       "    }\n",
       "\n",
       "    .dataframe thead th {\n",
       "        text-align: right;\n",
       "    }\n",
       "</style>\n",
       "<table border=\"1\" class=\"dataframe\">\n",
       "  <thead>\n",
       "    <tr style=\"text-align: right;\">\n",
       "      <th></th>\n",
       "      <th>Date</th>\n",
       "      <th>Price</th>\n",
       "    </tr>\n",
       "  </thead>\n",
       "  <tbody>\n",
       "    <tr>\n",
       "      <th>0</th>\n",
       "      <td>1553641200000</td>\n",
       "      <td>1014.95</td>\n",
       "    </tr>\n",
       "    <tr>\n",
       "      <th>1</th>\n",
       "      <td>1553727600000</td>\n",
       "      <td>1011.69</td>\n",
       "    </tr>\n",
       "    <tr>\n",
       "      <th>2</th>\n",
       "      <td>1553814000000</td>\n",
       "      <td>1007.26</td>\n",
       "    </tr>\n",
       "    <tr>\n",
       "      <th>3</th>\n",
       "      <td>1553900400000</td>\n",
       "      <td>1008.79</td>\n",
       "    </tr>\n",
       "    <tr>\n",
       "      <th>4</th>\n",
       "      <td>1553986800000</td>\n",
       "      <td>1008.79</td>\n",
       "    </tr>\n",
       "  </tbody>\n",
       "</table>\n",
       "</div>"
      ],
      "text/plain": [
       "            Date    Price\n",
       "0  1553641200000  1014.95\n",
       "1  1553727600000  1011.69\n",
       "2  1553814000000  1007.26\n",
       "3  1553900400000  1008.79\n",
       "4  1553986800000  1008.79"
      ]
     },
     "execution_count": 1,
     "metadata": {},
     "output_type": "execute_result"
    }
   ],
   "source": [
    "import pandas as pd\n",
    "path = \"C:/Users/Tandoi/Desktop/labhuawei-master/labhuawei-master/Price/1_Huawei_P30_Pro.csv\"\n",
    "data = pd.read_csv(path)\n",
    "data.head()"
   ]
  },
  {
   "cell_type": "code",
   "execution_count": 2,
   "metadata": {},
   "outputs": [
    {
     "data": {
      "text/html": [
       "<div>\n",
       "<style scoped>\n",
       "    .dataframe tbody tr th:only-of-type {\n",
       "        vertical-align: middle;\n",
       "    }\n",
       "\n",
       "    .dataframe tbody tr th {\n",
       "        vertical-align: top;\n",
       "    }\n",
       "\n",
       "    .dataframe thead th {\n",
       "        text-align: right;\n",
       "    }\n",
       "</style>\n",
       "<table border=\"1\" class=\"dataframe\">\n",
       "  <thead>\n",
       "    <tr style=\"text-align: right;\">\n",
       "      <th></th>\n",
       "      <th>Date</th>\n",
       "      <th>Price</th>\n",
       "      <th>Date2</th>\n",
       "    </tr>\n",
       "  </thead>\n",
       "  <tbody>\n",
       "    <tr>\n",
       "      <th>0</th>\n",
       "      <td>1553641200000</td>\n",
       "      <td>1014.95</td>\n",
       "      <td>2019-03-26</td>\n",
       "    </tr>\n",
       "    <tr>\n",
       "      <th>1</th>\n",
       "      <td>1553727600000</td>\n",
       "      <td>1011.69</td>\n",
       "      <td>2019-03-27</td>\n",
       "    </tr>\n",
       "    <tr>\n",
       "      <th>2</th>\n",
       "      <td>1553814000000</td>\n",
       "      <td>1007.26</td>\n",
       "      <td>2019-03-28</td>\n",
       "    </tr>\n",
       "    <tr>\n",
       "      <th>3</th>\n",
       "      <td>1553900400000</td>\n",
       "      <td>1008.79</td>\n",
       "      <td>2019-03-29</td>\n",
       "    </tr>\n",
       "    <tr>\n",
       "      <th>4</th>\n",
       "      <td>1553986800000</td>\n",
       "      <td>1008.79</td>\n",
       "      <td>2019-03-30</td>\n",
       "    </tr>\n",
       "  </tbody>\n",
       "</table>\n",
       "</div>"
      ],
      "text/plain": [
       "            Date    Price       Date2\n",
       "0  1553641200000  1014.95  2019-03-26\n",
       "1  1553727600000  1011.69  2019-03-27\n",
       "2  1553814000000  1007.26  2019-03-28\n",
       "3  1553900400000  1008.79  2019-03-29\n",
       "4  1553986800000  1008.79  2019-03-30"
      ]
     },
     "execution_count": 2,
     "metadata": {},
     "output_type": "execute_result"
    }
   ],
   "source": [
    "def convert(date):\n",
    "    from datetime import datetime\n",
    "    return datetime.utcfromtimestamp(int(date)/1000.0).strftime('%Y-%m-%d')\n",
    "    return None\n",
    "\n",
    "data['Date2'] = data['Date'].apply(convert)\n",
    "data.head()"
   ]
  },
  {
   "cell_type": "code",
   "execution_count": 3,
   "metadata": {},
   "outputs": [
    {
     "name": "stdout",
     "output_type": "stream",
     "text": [
      "0         NaN\n",
      "1   -0.321198\n",
      "2   -0.437881\n",
      "3    0.151897\n",
      "4    0.000000\n",
      "Name: Price, dtype: float64\n"
     ]
    }
   ],
   "source": [
    "delta = data['Price'].pct_change()*100\n",
    "print(delta.head())"
   ]
  },
  {
   "cell_type": "code",
   "execution_count": 4,
   "metadata": {},
   "outputs": [],
   "source": [
    "start_date = '2019-05-13'\n",
    "end_date = '2019-05-31'"
   ]
  },
  {
   "cell_type": "code",
   "execution_count": 5,
   "metadata": {},
   "outputs": [
    {
     "data": {
      "text/html": [
       "<div>\n",
       "<style scoped>\n",
       "    .dataframe tbody tr th:only-of-type {\n",
       "        vertical-align: middle;\n",
       "    }\n",
       "\n",
       "    .dataframe tbody tr th {\n",
       "        vertical-align: top;\n",
       "    }\n",
       "\n",
       "    .dataframe thead th {\n",
       "        text-align: right;\n",
       "    }\n",
       "</style>\n",
       "<table border=\"1\" class=\"dataframe\">\n",
       "  <thead>\n",
       "    <tr style=\"text-align: right;\">\n",
       "      <th></th>\n",
       "      <th>Date</th>\n",
       "      <th>Price</th>\n",
       "      <th>Date2</th>\n",
       "    </tr>\n",
       "  </thead>\n",
       "  <tbody>\n",
       "    <tr>\n",
       "      <th>49</th>\n",
       "      <td>1557871200000</td>\n",
       "      <td>920.93</td>\n",
       "      <td>2019-05-14</td>\n",
       "    </tr>\n",
       "    <tr>\n",
       "      <th>50</th>\n",
       "      <td>1557957600000</td>\n",
       "      <td>922.46</td>\n",
       "      <td>2019-05-15</td>\n",
       "    </tr>\n",
       "    <tr>\n",
       "      <th>51</th>\n",
       "      <td>1558044000000</td>\n",
       "      <td>920.00</td>\n",
       "      <td>2019-05-16</td>\n",
       "    </tr>\n",
       "    <tr>\n",
       "      <th>52</th>\n",
       "      <td>1558130400000</td>\n",
       "      <td>919.42</td>\n",
       "      <td>2019-05-17</td>\n",
       "    </tr>\n",
       "    <tr>\n",
       "      <th>53</th>\n",
       "      <td>1558216800000</td>\n",
       "      <td>920.09</td>\n",
       "      <td>2019-05-18</td>\n",
       "    </tr>\n",
       "  </tbody>\n",
       "</table>\n",
       "</div>"
      ],
      "text/plain": [
       "             Date   Price       Date2\n",
       "49  1557871200000  920.93  2019-05-14\n",
       "50  1557957600000  922.46  2019-05-15\n",
       "51  1558044000000  920.00  2019-05-16\n",
       "52  1558130400000  919.42  2019-05-17\n",
       "53  1558216800000  920.09  2019-05-18"
      ]
     },
     "execution_count": 5,
     "metadata": {},
     "output_type": "execute_result"
    }
   ],
   "source": [
    "filter_date = (data['Date2'] > start_date) & (data['Date2'] <= end_date)\n",
    "data = data.loc[filter_date]\n",
    "data.head()"
   ]
  },
  {
   "cell_type": "code",
   "execution_count": 7,
   "metadata": {},
   "outputs": [],
   "source": [
    "data['delta'] = delta"
   ]
  },
  {
   "cell_type": "code",
   "execution_count": 13,
   "metadata": {},
   "outputs": [
    {
     "data": {
      "text/html": [
       "<div>\n",
       "<style scoped>\n",
       "    .dataframe tbody tr th:only-of-type {\n",
       "        vertical-align: middle;\n",
       "    }\n",
       "\n",
       "    .dataframe tbody tr th {\n",
       "        vertical-align: top;\n",
       "    }\n",
       "\n",
       "    .dataframe thead th {\n",
       "        text-align: right;\n",
       "    }\n",
       "</style>\n",
       "<table border=\"1\" class=\"dataframe\">\n",
       "  <thead>\n",
       "    <tr style=\"text-align: right;\">\n",
       "      <th></th>\n",
       "      <th>Date</th>\n",
       "      <th>Price</th>\n",
       "      <th>Date2</th>\n",
       "      <th>delta</th>\n",
       "    </tr>\n",
       "  </thead>\n",
       "  <tbody>\n",
       "    <tr>\n",
       "      <th>49</th>\n",
       "      <td>1557871200000</td>\n",
       "      <td>920.93</td>\n",
       "      <td>2019-05-14</td>\n",
       "      <td>-0.314990</td>\n",
       "    </tr>\n",
       "    <tr>\n",
       "      <th>50</th>\n",
       "      <td>1557957600000</td>\n",
       "      <td>922.46</td>\n",
       "      <td>2019-05-15</td>\n",
       "      <td>0.166136</td>\n",
       "    </tr>\n",
       "    <tr>\n",
       "      <th>51</th>\n",
       "      <td>1558044000000</td>\n",
       "      <td>920.00</td>\n",
       "      <td>2019-05-16</td>\n",
       "      <td>-0.266678</td>\n",
       "    </tr>\n",
       "    <tr>\n",
       "      <th>52</th>\n",
       "      <td>1558130400000</td>\n",
       "      <td>919.42</td>\n",
       "      <td>2019-05-17</td>\n",
       "      <td>-0.063043</td>\n",
       "    </tr>\n",
       "    <tr>\n",
       "      <th>53</th>\n",
       "      <td>1558216800000</td>\n",
       "      <td>920.09</td>\n",
       "      <td>2019-05-18</td>\n",
       "      <td>0.072872</td>\n",
       "    </tr>\n",
       "  </tbody>\n",
       "</table>\n",
       "</div>"
      ],
      "text/plain": [
       "             Date   Price       Date2     delta\n",
       "49  1557871200000  920.93  2019-05-14 -0.314990\n",
       "50  1557957600000  922.46  2019-05-15  0.166136\n",
       "51  1558044000000  920.00  2019-05-16 -0.266678\n",
       "52  1558130400000  919.42  2019-05-17 -0.063043\n",
       "53  1558216800000  920.09  2019-05-18  0.072872"
      ]
     },
     "execution_count": 13,
     "metadata": {},
     "output_type": "execute_result"
    }
   ],
   "source": [
    "data.head()"
   ]
  },
  {
   "cell_type": "markdown",
   "metadata": {},
   "source": [
    "## codice completo"
   ]
  },
  {
   "cell_type": "code",
   "execution_count": null,
   "metadata": {},
   "outputs": [],
   "source": [
    "import pandas as pd\n",
    "path = \"C:/Users/Tandoi/Desktop/labhuawei-master/labhuawei-master/Price/1_Huawei_P30_Pro.csv\"\n",
    "data = pd.read_csv(path)\n",
    "\n",
    "def convert(date):\n",
    "    from datetime import datetime\n",
    "    return datetime.utcfromtimestamp(int(date)/1000.0).strftime('%Y-%m-%d')\n",
    "    return None\n",
    "\n",
    "data['Date2'] = data['Date'].apply(convert)\n",
    "\n",
    "delta = data['Price'].pct_change()*100\n",
    "\n",
    "start_date = '2019-05-13'\n",
    "end_date = '2019-05-31'\n",
    "filter_date = (data['Date2'] > start_date) & (data['Date2'] <= end_date)\n",
    "data = data.loc[filter_date]\n",
    "\n",
    "data['delta'] = delta\n",
    "data.head()"
   ]
  }
 ],
 "metadata": {
  "kernelspec": {
   "display_name": "Python 3",
   "language": "python",
   "name": "python3"
  },
  "language_info": {
   "codemirror_mode": {
    "name": "ipython",
    "version": 3
   },
   "file_extension": ".py",
   "mimetype": "text/x-python",
   "name": "python",
   "nbconvert_exporter": "python",
   "pygments_lexer": "ipython3",
   "version": "3.7.3"
  }
 },
 "nbformat": 4,
 "nbformat_minor": 2
}
